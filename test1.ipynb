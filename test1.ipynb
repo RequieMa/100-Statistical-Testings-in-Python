{
 "cells": [
  {
   "cell_type": "code",
   "execution_count": 1,
   "id": "adc6b796-f4f8-42ec-9f16-8c0bfbe3fd25",
   "metadata": {},
   "outputs": [],
   "source": [
    "import numpy as np\n",
    "import matplotlib as mpl\n",
    "import matplotlib.pyplot as plt\n",
    "from mpl_toolkits.mplot3d.axes3d import Axes3D\n",
    "%matplotlib inline\n",
    "%config InlineBackend.figure_format='svg'\n",
    "plt.rcParams.update({\"text.usetex\": False})\n",
    "import seaborn as sns\n",
    "sns.set_theme(style=\"whitegrid\")\n",
    "import ipywidgets as widgets \n",
    "\n",
    "np.random.seed(2024)"
   ]
  },
  {
   "cell_type": "code",
   "execution_count": 2,
   "id": "cb5ad7f0-c408-47be-a682-3283f5a72e39",
   "metadata": {},
   "outputs": [],
   "source": [
    "def test_1(sample, population):\n",
    "    bar_x = sample.mean\n",
    "    mu_0 = population.mean\n",
    "    sigma = population.std\n",
    "    n = sample.size\n",
    "    return (bar_x - mu_0) / (sigma / np.sqrt(n))"
   ]
  },
  {
   "cell_type": "code",
   "execution_count": 3,
   "id": "561baa9e-96b8-4130-ab3f-9728ea0e7364",
   "metadata": {},
   "outputs": [],
   "source": [
    "from tests import *\n",
    "\n",
    "example_test_dict = {\n",
    "    \"Test_1\" : test_1,\n",
    "}"
   ]
  },
  {
   "cell_type": "code",
   "execution_count": 1,
   "id": "eb259135-0d40-4dff-8cda-e015d34a4c20",
   "metadata": {},
   "outputs": [
    {
     "ename": "NameError",
     "evalue": "name 'np' is not defined",
     "output_type": "error",
     "traceback": [
      "\u001b[0;31m---------------------------------------------------------------------------\u001b[0m",
      "\u001b[0;31mNameError\u001b[0m                                 Traceback (most recent call last)",
      "Cell \u001b[0;32mIn[1], line 4\u001b[0m\n\u001b[1;32m      2\u001b[0m population_std \u001b[38;5;241m=\u001b[39m \u001b[38;5;241m1.0\u001b[39m\n\u001b[1;32m      3\u001b[0m population_size \u001b[38;5;241m=\u001b[39m \u001b[38;5;241m50000\u001b[39m\n\u001b[0;32m----> 4\u001b[0m population_dist \u001b[38;5;241m=\u001b[39m np\u001b[38;5;241m.\u001b[39mrandom\u001b[38;5;241m.\u001b[39mnormal(population_mean, population_std, population_size)\n\u001b[1;32m      5\u001b[0m population \u001b[38;5;241m=\u001b[39m Population(population_mean, population_std)\n\u001b[1;32m      7\u001b[0m sample_size \u001b[38;5;241m=\u001b[39m \u001b[38;5;241m9\u001b[39m\n",
      "\u001b[0;31mNameError\u001b[0m: name 'np' is not defined"
     ]
    }
   ],
   "source": [
    "population_mean = 4.0\n",
    "population_std = 1.0\n",
    "population_size = 50000\n",
    "population_dist = np.random.normal(population_mean, population_std, population_size)\n",
    "population = Population(population_mean, population_std)\n",
    "\n",
    "sample_size = 9\n",
    "sample = np.random.normal(population_mean, population_std, sample_size)\n",
    "\n",
    "display_center = population_mean\n",
    "display_marginal = population_std * 5\n",
    "fig, (ax1, ax2) = plt.subplots(1, 2, figsize=(12, 6))\n",
    "ax1.hist(population_dist, edgecolor='k', alpha=0.6, label=\"Population\", density=True)\n",
    "ax1.hist(sample, edgecolor='k', alpha=0.8, label=\"Samples\", density=True)\n",
    "ax1.legend()\n",
    "ax1.set_title(\"Probability Distribution\")\n",
    "ax1.set_xlabel('x')\n",
    "ax1.set_ylabel(\"P(x)\")\n",
    "ax1.set_xlim(display_center - display_marginal, display_center + display_marginal)\n",
    "\n",
    "samples = [sample]\n",
    "populations = [population]\n",
    "\n",
    "test_statistic = Test_Statistic()\n",
    "test_statistic.sample_push(samples)\n",
    "test_statistic.population_push(populations)\n",
    "\n",
    "z_test = Hypothesis_Test(test_type=\"Z-Test\")\n",
    "z_test.xx_test(test_statistic, test_dict=example_test_dict, test_name=\"Test_1\")\n",
    "z_test.plot_hypothesis_test(ax2)\n",
    "\n",
    "test_statistic.test_statistic_clear()"
   ]
  },
  {
   "cell_type": "code",
   "execution_count": null,
   "id": "e8a06a3d-fa8a-46af-83c0-804a4decbd6e",
   "metadata": {},
   "outputs": [],
   "source": []
  }
 ],
 "metadata": {
  "kernelspec": {
   "display_name": "Python 3 (ipykernel)",
   "language": "python",
   "name": "python3"
  },
  "language_info": {
   "codemirror_mode": {
    "name": "ipython",
    "version": 3
   },
   "file_extension": ".py",
   "mimetype": "text/x-python",
   "name": "python",
   "nbconvert_exporter": "python",
   "pygments_lexer": "ipython3",
   "version": "3.11.7"
  }
 },
 "nbformat": 4,
 "nbformat_minor": 5
}
