import numpy as np
import scipy.stats as stats

# 创建模型
def create_model(true_variance, size):
    return np.random.normal(0, np.sqrt(true_variance), size)

# 添加不确定性
def add_uncertainty(data, uncertainty_factor):
    return data + np.random.normal(0, uncertainty_factor, len(data))

# 收集数据
def collect_data(true_variance, size, uncertainty_factor):
    data = create_model(true_variance, size)
    uncertain_data = add_uncertainty(data, uncertainty_factor)
    return uncertain_data

# 做分析
def analyze_data(data, hypothesized_variance):
    n = len(data)
    sample_variance = np.var(data, ddof=1)
    chi_squared_stat = (n - 1) * sample_variance / hypothesized_variance
    
    # 计算临界值
    alpha1 = 0.025
    alpha2 = 0.05
    chi2_critical1 = stats.chi2.ppf(1 - alpha1, df=n - 1)
    chi2_critical2 = stats.chi2.ppf(1 - alpha2, df=n - 1)
    
    # 输出分析结果
    print(f"Chi-squared Statistic: {chi_squared_stat}")
    print(f"Chi-squared Critical Value (alpha={alpha1}): {chi2_critical1}")
    print(f"Chi-squared Critical Value (alpha={alpha2}): {chi2_critical2}")
    
    if chi_squared_stat < chi2_critical1:
        print("Do not reject H0 at alpha = 0.025")
    else:
        print("Reject H0 at alpha = 0.025")
    
    if chi_squared_stat < chi2_critical2:
        print("Do not reject H0 at alpha = 0.05")
    else:
        print("Reject H0 at alpha = 0.05")

# 参数设置
true_variance = 4.0
hypothesized_variance = 4.0
sample_size = 17
uncertainty_factor = 1.0

# 收集数据并分析
data = collect_data(true_variance, sample_size, uncertainty_factor)
analyze_data(data, hypothesized_variance)



pip install matplotlib



