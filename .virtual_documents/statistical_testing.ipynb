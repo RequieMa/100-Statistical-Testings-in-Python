


import numpy as np
import matplotlib as mpl
import matplotlib.pyplot as plt
from mpl_toolkits.mplot3d.axes3d import Axes3D
%matplotlib inline
%config InlineBackend.figure_format='svg'
plt.rcParams.update({"text.usetex": False})
import seaborn as sns
sns.set_theme(style="whitegrid")
import ipywidgets as widgets 

np.random.seed(2024)








def test_1(sample, population):
    bar_x = sample.mean
    mu_0 = population.mean
    sigma = population.std
    n = sample.size
    return (bar_x - mu_0) / (sigma / np.sqrt(n))





def test_2(two_samples, two_populations): 
    samples1, samples2 = two_samples
    population1, population2 = two_populations
    bar_x1, bar_x2 = samples1.mean, samples2.mean
    n1, n2 = samples1.size, samples2.size
    mu1, mu2 = population1.mean, population2.mean
    sigma = population1.std
    return ((bar_x1 - bar_x2) - (mu1 - mu2)) / (sigma * np.sqrt(1. / n1 + 1. / n2))





def test_3(two_samples, two_populations): 
    samples1, samples2 = two_samples
    population1, population2 = two_populations
    bar_x1, bar_x2 = samples1.mean, samples2.mean
    n1, n2 = samples1.size, samples2.size
    mu1, mu2 = population1.mean, population2.mean
    sigma1_2, sigma2_2 = population1.var, population2.var
    return ((bar_x1 - bar_x2) - (mu1 - mu2)) / np.sqrt(sigma1_2 / n1 + sigma2_2 / n2)





def test_4(sample, population): 
    p, p0 = sample.mean, population.mean
    n = sample.size
    return  (np.abs(p - p0) - 1 / (2 * n)) / np.sqrt(p0 * (1 - p0) / n)





def test_5(two_samples, dummy):
    samples1, samples2 = two_samples
    p1, p2 = samples1.mean, samples2.mean
    n1, n2 = samples1.size, samples2.size
    P = (p1 * n1 + p2 * n2) / (n1 + n2)
    return (p1 - p2) / np.sqrt(P * (1 - P) * (1 / n1 + 1 / n2))





def test_6(two_samples, dummy):
    (samples1, samples2), (t1, t2) = two_samples
    R1, R2 = samples1.mean, samples2.mean
    return (R1 - R2) / np.sqrt(R1 / t1 + R2 / t2)





def test_7(sample, population):
    bar_x = sample.mean
    diff = sample.sample_data - bar_x
    n = sample.size
    s = np.sqrt(diff @ diff/ (n - 1))
    mu0 = population.mean
    return (bar_x - mu0) / (s / np.sqrt(n))





def test_8(two_samples, two_populations):
    sample1, sample2 = two_samples
    population1, population2 = two_populations
    n1, n2 = sample1.size, sample2.size
    bar_x1, bar_x2 = sample1.mean, sample2.mean
    mu1, mu2 = population1.mean, population2.mean
    diff_1 = sample1.sample_data - bar_x1
    diff_2 = sample2.sample_data - bar_x2
    s1_2, s2_2 = diff_1 @ diff_1, diff_2 @ diff_2
    s_2 = ((n1 - 1) * s1_2 + (n2 - 1) * s2_2) / (n1 + n2 - 2) 
    return ((bar_x1 - bar_x2) - (mu1 - mu2)) / np.sqrt(s_2 * (1. / n1 + 1. / n2))





def test_9(two_samples, two_populations):
    sample1, sample2 = two_samples
    population1, population2 = two_populations
    bar_x1, bar_x2 = sample1.mean, sample2.mean
    n1, n2 = sample1.size, sample2.size
    diff_1 = sample1.sample_data - sample1.mean
    diff_2 = sample2.sample_data - sample2.mean
    s1_2, s2_2 = diff_1 @ diff_1 / (n1 - 1), diff_2 @ diff_2 / (n2 - 1)
    mu1, mu2 = population1.mean, population2.mean
    return ((bar_x1 - bar_x2) - (mu1 - mu2)) / np.sqrt(s1_2 / n1 + s2_2 / n2)





def test_10(two_samples, dummy):
    sample1, sample2 = two_samples
    bar_x1, bar_x2 = sample1.mean, sample2.mean
    n = sample1.size
    diff = sample1.sample_data - sample2.sample_data
    bar_d1 = diff.mean()
    d_diff = diff - bar_d1
    s_2 = d_diff @ d_diff / (n - 1)
    return (bar_x1 - bar_x2) / np.sqrt(s_2 / n)





def test_11(two_samples, dummy):
    x, y = two_samples
    x_data, y_data = x.sample_data, y.sample_data
    n = x.size
    sum_xy = x_data @ y_data
    sum_x_2 = x_data @ x_data
    x2 = x_data ** 2
    sum_x = np.sqrt(sum_x_2)
    sum_y = np.sqrt(y_data @ y_data)
    sum_x2 = np.sqrt(x2 @ x2)
    b = (sum_xy - sum_x * sum_y / n) / (sum_x2 - sum_x_2 / n)
    bar_x, bar_y = x.mean, y.mean
    diff_x = x_data - bar_x
    sx_2 = diff_x @ diff_x / (n - 1)
    diff_y_bx = y_data - bar_y - b * diff_x
    syx_2 = diff_y_bx @ diff_y_bx / (n - 1)
    t = b * np.sqrt(sx_2 / syx_2 / (n - 1))
    return t





def test_12(two_samples, dummy):
    x, y = two_samples
    x_data, y_data = x.sample_data, y.sample_data
    diff_x = x_data - x.mean
    diff_y = y_data - y.mean
    n = x.size
    r = diff_x @ diff_y / np.sqrt(diff_x @ diff_x * diff_y @ diff_y)
    t = r * np.sqrt((n - 2) / (1 - r * r))
    return t





def test_13(two_samples_and_rho, dummy):
    (x, y), rho0 = two_samples_and_rho
    x_data, y_data = x.sample_data, y.sample_data
    diff_x = x_data - x.mean
    diff_y = y_data - y.mean
    n = x.size
    r = diff_x @ diff_y / np.sqrt(diff_x @ diff_x * diff_y @ diff_y)
    z1 = 1 / 2 * np.log((1 + r) / (1 - r))
    mu_z1 = 1 / 2 * np.log((1 + rho0) / (1 - rho0))
    sigma_z1 = 1 / np.sqrt(n - 3)
    z = (z1 - mu_z1) / sigma_z1
    return z





example_test_dict = {
    "Test_1" : test_1,
    "Test_2" : test_2,
    "Test_3" : test_3,
    "Test_4" : test_4,
    "Test_5" : test_5,
    "Test_6" : test_6,
    "Test_7" : test_7,
    "Test_8" : test_8,
    "Test_9" : test_9,
    "Test_10" : test_10,
    "Test_11" : test_11,
    "Test_12" : test_12,
    "Test_13" : test_13,
}


from tests import *





population_mean = 4.0
population_std = 1.0
population_size = 50000
population_dist = np.random.normal(population_mean, population_std, population_size)
population = Population(population_mean, population_std)

sample_size = 9
sample = np.random.normal(population_mean, population_std, sample_size)

display_center = population_mean
display_marginal = population_std * 5
fig, (ax1, ax2) = plt.subplots(1, 2, figsize=(12, 6))
ax1.hist(population_dist, edgecolor='k', alpha=0.6, label="Population", density=True)
ax1.hist(sample, edgecolor='k', alpha=0.8, label="Samples", density=True)
ax1.legend()
ax1.set_title("Probability Distribution")
ax1.set_xlabel('x')
ax1.set_ylabel("P(x)")
ax1.set_xlim(display_center - display_marginal, display_center + display_marginal)

samples = [sample]
populations = [population]

test_statistic = Test_Statistic()
test_statistic.sample_push(samples)
test_statistic.population_push(populations)

z_test = Hypothesis_Test(test_type="Z-Test")
z_test.xx_test(test_statistic, test_dict=example_test_dict, test_name="Test_1")
z_test.plot_hypothesis_test(ax2)

test_statistic.test_statistic_clear()





population1_mean = 1.2
population2_mean = 1.7
population_std = 1.4405
population_size = 30000
population1_dist = np.random.normal(population1_mean, population_std, population_size)
population2_dist = np.random.normal(population2_mean, population_std, population_size)
population1 = Population(population1_mean, population_std)
population2 = Population(population2_mean, population_std)

sample1_size = 9
sample2_size = 16
sample1 = np.random.normal(population1_mean, population_std, sample1_size)
sample2 = np.random.normal(population2_mean, population_std, sample2_size)

display_center = (population1_mean + population2_mean) / 2.0
display_marginal = population_std * 5
fig, (ax, ax2) = plt.subplots(1, 2, figsize=(12, 6))
ax.hist(population1_dist, bins=30, edgecolor='black', alpha=0.6, label='Population1', density=True)
ax.hist(population2_dist, bins=30, edgecolor='black', alpha=0.6, label='Population2', density=True)
ax.hist(sample1, bins=30, edgecolor='black', alpha=0.8, label='Sample1', density=True)
ax.hist(sample2, bins=30, edgecolor='black', alpha=0.8, label='Sample2', density=True)
ax.legend()
ax.set_title("Probability Distribution")
ax.set_xlabel("x")
ax.set_ylabel("P(x)")
ax.set_xlim(display_center - display_marginal, display_center + display_marginal)

samples = [sample1, sample2]
populations = [population1, population2]

test_statistic = Test_Statistic()
test_statistic.sample_push(samples)
test_statistic.population_push(populations)

z_test = Hypothesis_Test(test_type="Z-Test")
z_test.xx_test(test_statistic, test_dict=example_test_dict, test_name="Test_2")
z_test.plot_hypothesis_test(ax2)

test_statistic.test_statistic_clear()





population1_mean = 80.02
population2_mean = 79.98
population1_std = np.sqrt(0.000576)
population2_std = np.sqrt(0.001089)
population_size = 30000
population1_dist = np.random.normal(population1_mean, population1_std, population_size)
population2_dist = np.random.normal(population2_mean, population2_std, population_size)
population1 = Population(population1_mean, population1_std)
population2 = Population(population2_mean, population2_std)

sample1_size = 13
sample2_size = 8
sample1 = np.random.normal(population1_mean, population1_std, sample1_size)
sample2 = np.random.normal(population2_mean, population2_std, sample2_size)

display_center = (population1_mean + population2_mean) / 2.0
display_marginal = (population1_std + population2_std) / 2.0  * 5
fig, (ax, ax2) = plt.subplots(1, 2, figsize=(12, 6))
ax.hist(population1_dist, bins=30, edgecolor='black', alpha=0.6, label='Population1', density=True)
ax.hist(population2_dist, bins=30, edgecolor='black', alpha=0.6, label='Population2', density=True)
ax.hist(sample1, bins=30, edgecolor='black', alpha=0.8, label='Sample1', density=True)
ax.hist(sample2, bins=30, edgecolor='black', alpha=0.8, label='Samples2', density=True)
ax.legend()
ax.set_title("Probability Distribution")
ax.set_xlabel("x")
ax.set_ylabel("P(x)")
ax.set_xlim(display_center - display_marginal, display_center + display_marginal)

samples = [sample1, sample2]
populations = [population1, population2]

test_statistic = Test_Statistic()
test_statistic.sample_push(samples)
test_statistic.population_push(populations)

z_test = Hypothesis_Test(test_type="Z-Test")
z_test.xx_test(test_statistic, test_dict=example_test_dict, test_name="Test_3")
z_test.plot_hypothesis_test(ax2)

test_statistic.test_statistic_clear()





population_prob = 0.5
population_size = 30000
trails = 1
population_dist = np.random.binomial(trails, population_prob, population_size)
population = Population(population_prob, None, dist_type="Binomial")

sample_size = 100
sample_mean = 0.4
sample = np.random.binomial(trails, sample_mean, sample_size)

display_center = (population1_mean + population2_mean) / 2.0
display_marginal = (population1_std + population2_std) / 2.0  * 5
fig, (ax, ax2) = plt.subplots(1, 2, figsize=(12, 6))
ax.hist(population_dist, bins=3, edgecolor='black', alpha=0.6, label='Population', density=True)
ax.hist(sample, bins=3, edgecolor='black', alpha=0.8, label='Sample', density=True)
ax.legend()
ax.set_title("Probability Distribution")
ax.set_xlabel("x")
ax.set_ylabel("P(x)")
ax.set_xlim(0, trails)

samples = [sample]
populations = [population]

test_statistic = Test_Statistic()
test_statistic.sample_push(samples)
test_statistic.population_push(populations)

z_test = Hypothesis_Test(test_type="Z-Test")
z_test.xx_test(test_statistic, test_dict=example_test_dict, test_name="Test_4")
z_test.plot_hypothesis_test(ax2)

test_statistic.test_statistic_clear()





trails = 1
sample1_size = 952
sample2_size = 1168
sample1_prob = 0.00325
sample2_prob = 0.0573
sample1 = np.random.binomial(trails, sample1_prob, sample1_size)
sample2 = np.random.binomial(trails, sample2_prob, sample2_size)
population = Population(None, None, dist_type="Binomial")

display_center = (sample1.mean() + sample2.mean()) / 2.0
display_marginal = (sample1.std() + sample2.std()) / 2.0  * 5
fig, (ax, ax2) = plt.subplots(1, 2, figsize=(12, 6))
ax.hist(sample1, bins=3, edgecolor='black', alpha=0.8, label='Sample1', density=True)
ax.hist(sample2, bins=3, edgecolor='black', alpha=0.8, label='Sample2', density=True)
ax.legend()
ax.set_title("Probability Distribution")
ax.set_xlabel("x")
ax.set_ylabel("P(x)")
ax.set_xlim(0, trails)

samples = [sample1, sample2]
populations = [population]

test_statistic = Test_Statistic()
test_statistic.sample_push(samples)
test_statistic.population_push(populations)

z_test = Hypothesis_Test(test_type="Z-Test")
z_test.xx_test(test_statistic, test_dict=example_test_dict, test_name="Test_5")
z_test.plot_hypothesis_test(ax2)

test_statistic.test_statistic_clear()





sample1_size = 952
sample2_size = 1168
t1 = 22
t2 = 30
sample1_mean = sample1_size / t1
sample2_mean = sample2_size / t2
sample1 = np.random.poisson(sample1_mean, sample1_size)
sample2 = np.random.poisson(sample2_mean, sample2_size)
population = Population(None, None, dist_type="Poisson")

display_center = (sample1_mean + sample2_mean) / 2.0
display_marginal = (sample1.std() + sample2.std()) / 2.0  * 5
fig, (ax, ax2) = plt.subplots(1, 2, figsize=(12, 6))
ax.hist(sample1, bins=3, edgecolor='black', alpha=0.8, label='Sample1', density=True)
ax.hist(sample2, bins=3, edgecolor='black', alpha=0.8, label='Sample2', density=True)
ax.legend()
ax.set_title("Probability Distribution")
ax.set_xlabel("x")
ax.set_ylabel("P(x)")
ax.set_xlim(0, display_center * 2)

samples = [sample1, sample2]
t_list = [t1, t2]
populations = [population]

test_statistic = Test_Statistic()
test_statistic.sample_push(samples)
test_statistic.time_value_push(t_list)
test_statistic.population_push(populations)

z_test = Hypothesis_Test(test_type="Z-Test")
z_test.xx_test(test_statistic, test_dict=example_test_dict, test_name="Test_6")
z_test.plot_hypothesis_test(ax2)

test_statistic.test_statistic_clear()





population_mean = 4.0
population_std = 1.2
population_size = 30000
population_dist = np.random.normal(population_mean, population_std, population_size)
population = Population(population_mean, population_std)

sample_size = 9
sample_mean = 3.1
sample_std = 1.0
sample = np.random.normal(sample_mean, sample_std, sample_size)

display_center = population_mean
display_marginal = population_std
fig, (ax, ax2) = plt.subplots(1, 2, figsize=(12, 6))
ax.hist(population_dist, bins=3, edgecolor='black', alpha=0.6, label='Sample1', density=True)
ax.hist(sample, bins=3, edgecolor='black', alpha=0.8, label='Sample2', density=True)
ax.legend()
ax.set_title("Probability Distribution")
ax.set_xlabel("x")
ax.set_ylabel("P(x)")
ax.set_xlim(display_center - 5 * display_marginal, display_center + 5 * display_marginal)

samples = [sample]
populations = [population]

test_statistic = Test_Statistic()
test_statistic.sample_push(samples)
test_statistic.population_push(populations)

t_test = Hypothesis_Test(test_type="T-Test", dof=(sample_size - 1))
t_test.xx_test(test_statistic, test_dict=example_test_dict, test_name="Test_7")
t_test.plot_hypothesis_test(ax2)

test_statistic.test_statistic_clear()





population1_mean = 31.75
population2_mean = 28.67
population1_std = np.sqrt(112.25)
population2_std = np.sqrt(66.64)
population_size = 30000
population1_dist = np.random.normal(population1_mean, population1_std, population_size)
population2_dist = np.random.normal(population2_mean, population2_std, population_size)
population1 = Population(population1_mean, population_std)
population2 = Population(population2_mean, population_std)

sample1_size = 12
sample2_size = 12
sample1 = np.random.normal(population1_mean, population1_std, sample1_size)
sample2 = np.random.normal(population2_mean, population2_std, sample2_size)

display_center = (population1_mean + population2_mean) / 2.0
display_marginal = (population1_std + population2_std) / 2.0
fig, (ax, ax2) = plt.subplots(1, 2, figsize=(12, 6))
ax.hist(population1_dist, bins=30, edgecolor='black', alpha=0.6, label='Population1', density=True)
ax.hist(population2_dist, bins=30, edgecolor='black', alpha=0.6, label='Population2', density=True)
ax.hist(sample1, bins=30, edgecolor='black', alpha=0.8, label='Sample1', density=True)
ax.hist(sample2, bins=30, edgecolor='black', alpha=0.8, label='Sample2', density=True)
ax.legend()
ax.set_title("Probability Distribution")
ax.set_xlabel("x")
ax.set_ylabel("P(x)")
ax.set_xlim(display_center - 5 * display_marginal, display_center + 5 * display_marginal)

samples = [sample1, sample2]
populations = [population1, population2]

test_statistic = Test_Statistic()
test_statistic.sample_push(samples)
test_statistic.population_push(populations)

t_test = Hypothesis_Test(test_type="T-Test", dof=(sample1_size + sample2_size - 2))
t_test.xx_test(test_statistic, test_dict=example_test_dict, test_name="Test_8")
t_test.plot_hypothesis_test(ax2)

test_statistic.test_statistic_clear()





population1_mean = 3166.0
population2_mean = 2240.4
population1_std = np.sqrt(6328.67)
population2_std = np.sqrt(221661.3)
population_size = 30000
population1_dist = np.random.normal(population1_mean, population1_std, population_size)
population2_dist = np.random.normal(population2_mean, population2_std, population_size)
population1 = Population(population1_mean, population1_std)
population2 = Population(population2_mean, population2_std)

sample1_size = 4
sample2_size = 9
sample1 = np.random.normal(population1_mean, population1_std, sample1_size)
sample2 = np.random.normal(population2_mean, population2_std, sample2_size)

display_center = (population1_mean + population2_mean) / 2.0
display_marginal = (population1_std + population2_std) / 2.0
fig, (ax, ax2) = plt.subplots(1, 2, figsize=(12, 6))
ax.hist(population1_dist, bins=30, edgecolor='black', alpha=0.6, label='Population1', density=True)
ax.hist(population2_dist, bins=30, edgecolor='black', alpha=0.6, label='Population2', density=True)
ax.hist(sample1, bins=30, edgecolor='black', alpha=0.8, label='Sample1', density=True)
ax.hist(sample2, bins=30, edgecolor='black', alpha=0.8, label='Sample2', density=True)
ax.legend()
ax.set_title("Probability Distribution")
ax.set_xlabel("x")
ax.set_ylabel("P(x)")
ax.set_xlim(display_center - 5 * display_marginal, display_center + 5 * display_marginal)

samples = [sample1, sample2]
populations = [population1, population2]

test_statistic = Test_Statistic()
test_statistic.sample_push(samples)
test_statistic.population_push(populations)

dof = test_statistic.calculate_dof()
t_test = Hypothesis_Test(test_type="T-Test", dof=dof)
t_test.xx_test(test_statistic, test_dict=example_test_dict, test_name="Test_9")
t_test.plot_hypothesis_test(ax2)

test_statistic.test_statistic_clear()





population1_mean = 5
population2_mean = 5.1
population1_std = np.sqrt(2.9)
population2_std = np.sqrt(2.9)
population_size = 30000
population1_dist = np.random.normal(population1_mean, population1_std, population_size)
population2_dist = np.random.normal(population2_mean, population2_std, population_size)
population1 = Population(population1_mean, population1_std)
population2 = Population(population2_mean, population2_std)

sample_size = 10
sample1 = np.random.normal(population1_mean, population1_std, sample_size)
sample2 = np.random.normal(population2_mean, population2_std, sample_size)

display_center = (population1_mean + population2_mean) / 2.0
display_marginal = (population1_std + population2_std) / 2.0
fig, (ax, ax2) = plt.subplots(1, 2, figsize=(12, 6))
ax.hist(population1_dist, bins=30, edgecolor='black', alpha=0.6, label='Population1', density=True)
ax.hist(population2_dist, bins=30, edgecolor='black', alpha=0.6, label='Population2', density=True)
ax.hist(sample1, bins=30, edgecolor='black', alpha=0.8, label='Sample1', density=True)
ax.hist(sample2, bins=30, edgecolor='black', alpha=0.8, label='Sample2', density=True)
ax.legend()
ax.set_title("Probability Distribution")
ax.set_xlabel("x")
ax.set_ylabel("P(x)")
ax.set_xlim(display_center - 5 * display_marginal, display_center + 5 * display_marginal)

samples = [sample1, sample2]
populations = [population1, population2]

test_statistic = Test_Statistic()
test_statistic.sample_push(samples)
test_statistic.population_push(populations)

t_test = Hypothesis_Test(test_type="T-Test", dof=(sample_size - 1))
t_test.xx_test(test_statistic, test_dict=example_test_dict, test_name="Test_10")
t_test.plot_hypothesis_test(ax2)

test_statistic.test_statistic_clear()





# TODO: Debug
n = 100
x = np.linspace(-5, 10, n)
m, c = 4, 2
f = lambda x, m, c: m * x + c
y = f(x, m, c)
x_data = x + np.random.normal(0, 0.1, n)
y_data = y + np.random.normal(0, 1.2, n)

m_fit, c_fit = np.polyfit(x_data, y_data, 1)
print(m_fit, c_fit)
m_fit += 100
fig, (ax, ax2) = plt.subplots(1, 2, figsize=(12, 6))
ax.scatter(x_data, y_data, marker='x', label="Data")
ax.plot(x_data, f(x_data, m_fit, c_fit), color='r', label="Best Fit Line")
ax.legend()
ax.set_xlabel("x")
ax.set_ylabel("y")

samples = [x_data, y_data]
populations = []

test_statistic = Test_Statistic()
test_statistic.sample_push(samples)
test_statistic.population_push(populations)

t_test = Hypothesis_Test(test_type="T-Test", dof=(x_data.size - 2))
t_test.xx_test(test_statistic, test_dict=example_test_dict, test_name="Test_11")
t_test.plot_hypothesis_test(ax2)

test_statistic.test_statistic_clear()





n = 10
x = np.linspace(-5, 10, n)
m, c = 4, 2
f = lambda x, m, c: m * x + c
x_data = x + np.random.normal(0, 0.1, n)
# y_data = f(x, m, c) + np.random.normal(0, 1.2, n)
y_data = np.random.normal(0, 1.2, n)

fig, (ax, ax2) = plt.subplots(1, 2, figsize=(12, 6))
ax.scatter(x_data, y_data, marker='x', label="Data")
ax.legend()
ax.set_xlabel("x")
ax.set_ylabel("y")

samples = [x_data, y_data]
populations = []

test_statistic = Test_Statistic()
test_statistic.sample_push(samples)
test_statistic.population_push(populations)

t_test = Hypothesis_Test(test_type="T-Test", dof=(x_data.size - 2))
t_test.xx_test(test_statistic, test_dict=example_test_dict, test_name="Test_12")
t_test.plot_hypothesis_test(ax2)

test_statistic.test_statistic_clear()





# TODO: Debug
x_data = np.random.normal(0, 1.1, n)
y_data = np.random.normal(3, 1.3, n)

fig, (ax, ax2) = plt.subplots(1, 2, figsize=(12, 6))
ax.scatter(x_data, y_data, marker='x', label="Data")
ax.legend()
ax.set_xlabel("x")
ax.set_ylabel("y")

samples = [x_data, y_data]
populations = []

test_statistic = Test_Statistic()
test_statistic.sample_push(samples)
test_statistic.population_push(populations)
test_statistic.rho_for_correlation(rho=0.3)

z_test = Hypothesis_Test(test_type="Z-Test")
z_test.xx_test(test_statistic, test_dict=example_test_dict, test_name="Test_13")
t_test.plot_hypothesis_test(ax2)

test_statistic.test_statistic_clear()



